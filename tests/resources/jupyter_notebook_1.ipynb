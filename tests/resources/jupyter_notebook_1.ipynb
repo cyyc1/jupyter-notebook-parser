{
 "cells": [
  {
   "cell_type": "code",
   "execution_count": 1,
   "id": "1a4e6df0",
   "metadata": {},
   "outputs": [],
   "source": [
    "from typing import List, Dict"
   ]
  },
  {
   "cell_type": "code",
   "execution_count": 2,
   "id": "d72a909f",
   "metadata": {},
   "outputs": [],
   "source": [
    "def some_function(arg1: List[str], arg2: Dict[str, float]):\n",
    "    print(arg1)\n",
    "    return arg2"
   ]
  },
  {
   "cell_type": "markdown",
   "id": "0040a4f4",
   "metadata": {},
   "source": [
    "## Section 1"
   ]
  },
  {
   "cell_type": "code",
   "execution_count": 3,
   "id": "3a1b985c",
   "metadata": {},
   "outputs": [
    {
     "name": "stdout",
     "output_type": "stream",
     "text": [
      "['a', 'b']\n"
     ]
    }
   ],
   "source": [
    "a = some_function(['a', 'b'], {'c': 0.2})"
   ]
  },
  {
   "cell_type": "code",
   "execution_count": 4,
   "id": "2dfd7d0b",
   "metadata": {},
   "outputs": [],
   "source": [
    "assert 3 == 3"
   ]
  },
  {
   "cell_type": "markdown",
   "id": "de5a89c9",
   "metadata": {},
   "source": [
    "Here is a math formula:\n",
    "\n",
    "$$c = \\sqrt{a^2 + b^2}$$"
   ]
  },
  {
   "cell_type": "code",
   "execution_count": 5,
   "id": "4952b6de",
   "metadata": {},
   "outputs": [],
   "source": [
    "def some_other_function() -> bool:\n",
    "    \"\"\"\n",
    "    Some docstring\n",
    "    \"\"\"\n",
    "    return False"
   ]
  },
  {
   "cell_type": "markdown",
   "id": "bf1cb851",
   "metadata": {},
   "source": [
    "Some texts."
   ]
  },
  {
   "cell_type": "code",
   "execution_count": 6,
   "id": "01224536",
   "metadata": {},
   "outputs": [
    {
     "name": "stdout",
     "output_type": "stream",
     "text": [
      "False\n"
     ]
    }
   ],
   "source": [
    "print(some_other_function())"
   ]
  },
  {
   "cell_type": "markdown",
   "id": "b54d0660",
   "metadata": {},
   "source": [
    "### Some more texts\n",
    "\n",
    "| Syntax      | Description |\n",
    "| ----------- | ----------- |\n",
    "| Header      | Title       |\n",
    "| Paragraph   | Text        |"
   ]
  },
  {
   "cell_type": "code",
   "execution_count": 7,
   "id": "dc0edb11",
   "metadata": {},
   "outputs": [
    {
     "name": "stdout",
     "output_type": "stream",
     "text": [
      "abcd\"efg\".\n"
     ]
    }
   ],
   "source": [
    "print('abcd\"efg\".')"
   ]
  }
 ],
 "metadata": {
  "kernelspec": {
   "display_name": "Python 3 (ipykernel)",
   "language": "python",
   "name": "python3"
  },
  "language_info": {
   "codemirror_mode": {
    "name": "ipython",
    "version": 3
   },
   "file_extension": ".py",
   "mimetype": "text/x-python",
   "name": "python",
   "nbconvert_exporter": "python",
   "pygments_lexer": "ipython3",
   "version": "3.9.13"
  },
  "vscode": {
   "interpreter": {
    "hash": "31f2aee4e71d21fbe5cf8b01ff0e069b9275f58929596ceb00d14d90e3e16cd6"
   }
  }
 },
 "nbformat": 4,
 "nbformat_minor": 5
}
